{
 "cells": [
  {
   "cell_type": "markdown",
   "id": "6070a363-e94a-4ab6-af7d-dd7f4b34faae",
   "metadata": {},
   "source": [
    "***"
   ]
  },
  {
   "cell_type": "code",
   "execution_count": null,
   "id": "bfb99414-5ac1-4359-9e85-bac6a33d9ac8",
   "metadata": {},
   "outputs": [],
   "source": [
    "from scipy.io import wavfile\n",
    "import IPython\n",
    "import os\n",
    "import numpy as np"
   ]
  },
  {
   "cell_type": "markdown",
   "id": "362e5601-4bd0-4600-adf3-ea7aa9bd4df7",
   "metadata": {},
   "source": [
    "### Directorios de entrada y salida"
   ]
  },
  {
   "cell_type": "markdown",
   "id": "7d6d5954-df9f-4459-8be6-348034f66a24",
   "metadata": {},
   "source": [
    "Estos directorios se especifican para indicar de dónde se extraerán los ficheros de sonido a procesar y dónde se volcarán los audios modificados."
   ]
  },
  {
   "cell_type": "code",
   "execution_count": null,
   "id": "a2b7e67a-e4c2-4ff4-b06d-7ccee980abcf",
   "metadata": {},
   "outputs": [],
   "source": [
    "cwd = os.getcwd()\n",
    "audio_input_path = os.path.join(cwd, os.path.join('audio', 'examples'))\n",
    "audio_output_path = os.path.join(cwd, os.path.join('audio', '_output'))\n",
    "print(f'Directorio con los audios de entrada: {audio_input_path}')\n",
    "print(f'Directorio donde guardaremos los audios generados: {audio_output_path}\\n')"
   ]
  },
  {
   "cell_type": "markdown",
   "id": "bfc5eb3d-e688-421c-8471-e1b3e21422c8",
   "metadata": {},
   "source": [
    "### Cargar el archivo de audio"
   ]
  },
  {
   "cell_type": "markdown",
   "id": "b742688e-a8d1-4dc9-ba01-20ca1a68fee3",
   "metadata": {},
   "source": [
    "Diferencias entre formatos de archivo para almacenar audio digital.\n",
    "\n",
    "<ul>\n",
    "    <li><b>Formato .wav</b>: Este formato permite tener un archivo de audio sin comprimir por lo que no se pierde información por el camino consiguiendo máxima calidad y por lo tanto el tamaño del archivo es grande.</li>\n",
    "    <li><b>Formato .mp3</b>: Este formato permite tener un archivo de audio comprimido por lo que, a diferencia del anterior formato, éste tiene pérdida de calidad aunque reduce el tamaño del archivo final.</li>\n",
    "</ul>"
   ]
  },
  {
   "cell_type": "markdown",
   "id": "15ab6aa4-b115-4810-bf74-b2c3b7e17492",
   "metadata": {},
   "source": [
    "Considerando el directorio de entrada de audios indicados anteriormente, se carga un archivo de audio .wav."
   ]
  },
  {
   "cell_type": "code",
   "execution_count": null,
   "id": "3e1d48db-b430-41cd-b051-7af0c158fe5b",
   "metadata": {},
   "outputs": [],
   "source": [
    "# Se carga el archivo de audio.\n",
    "filename = os.path.join(audio_input_path, 'breaking_bad.wav')\n",
    "sample_rate, audio_data = wavfile.read(filename)\n",
    "\n",
    "print(f'Frecuencia de muestreo (sample rate): {sample_rate/1000} kHz')"
   ]
  },
  {
   "cell_type": "markdown",
   "id": "ea236d4b-58df-4166-a216-b89d57837811",
   "metadata": {},
   "source": [
    "Se indica la frecuencia de muestreo para poder reproducir el audio procesado."
   ]
  },
  {
   "cell_type": "code",
   "execution_count": null,
   "id": "20d992b3-1603-464b-aab9-dab4eab91bfe",
   "metadata": {},
   "outputs": [],
   "source": [
    "IPython.display.Audio(audio_data.T, rate=sample_rate) # .T se pasa únicamente si es audio estéreo."
   ]
  },
  {
   "cell_type": "markdown",
   "id": "f174b8d3-07da-4dd2-9a54-adcf2d30c1fc",
   "metadata": {},
   "source": [
    "### Mostrar principales características de la onda"
   ]
  },
  {
   "cell_type": "markdown",
   "id": "386a0ee8-c143-467d-8e42-0d043e830e79",
   "metadata": {},
   "source": [
    "Al ser un audio estéreo se escuchará por ambos canales de diferente manera."
   ]
  },
  {
   "cell_type": "code",
   "execution_count": null,
   "id": "4c6ddf9c-9224-49a1-9884-2eca1644f377",
   "metadata": {},
   "outputs": [],
   "source": [
    "# Mostrar informacion (sonido estéreo).\n",
    "print('Datos de audio (estereo):')\n",
    "print(f'- Tamaño:     {audio_data.shape}')\n",
    "print(f'- 1º canal:   {audio_data[:5, 0]}...')\n",
    "print(f'- 2º canal:   {audio_data[:5, 1]}...')\n",
    "print(f'- Resolucion: {type(audio_data[0,0])}\\n')"
   ]
  },
  {
   "cell_type": "code",
   "execution_count": null,
   "id": "0c89b757",
   "metadata": {},
   "outputs": [],
   "source": []
  },
  {
   "cell_type": "markdown",
   "id": "22329eff-3797-4dcf-8c69-b4698089eff4",
   "metadata": {},
   "source": [
    "Para convertir el audio de estéreo a mono se calcula la media por canal consiguiendo que el audio salga de la misma manera por ambos canales."
   ]
  },
  {
   "cell_type": "code",
   "execution_count": null,
   "id": "2436e3d0-2e7a-48e7-90d9-cd78a117d236",
   "metadata": {},
   "outputs": [],
   "source": [
    "# Se convierte a mono mediante la media por canal (simplificacion).\n",
    "new_data_mono = audio_data.mean(axis=1)  # Column-wise.\n",
    "print('Nuevos datos de audio (mono):')\n",
    "print(f'- Nuevo tamaño: {new_data_mono.shape}')\n",
    "print(f'- Canal unico:  {new_data_mono[:5]}...')\n",
    "\n",
    "# Se mantiene la misma resolucion que antes.\n",
    "new_data_mono = new_data_mono.astype(np.int16)\n",
    "print(f'- Resolucion:   {type(new_data_mono[0])}\\n')"
   ]
  },
  {
   "cell_type": "markdown",
   "id": "2da0076d-bcb4-47d8-a15d-a3323726fc60",
   "metadata": {},
   "source": [
    "Vamos a guardarlo."
   ]
  },
  {
   "cell_type": "code",
   "execution_count": null,
   "id": "9e886f38-dfca-4b4a-9ac0-45a201f178c3",
   "metadata": {},
   "outputs": [],
   "source": [
    "# Se guarda el archivo mono a un fichero de tipo wav.\n",
    "wavfile.write(\n",
    "    filename=os.path.join(audio_output_path, 'sample1_mono.wav'),\n",
    "    rate=sample_rate,\n",
    "    data=new_data_mono\n",
    ")"
   ]
  },
  {
   "cell_type": "markdown",
   "id": "b26593d8-998f-452b-836d-11ed8425bcf9",
   "metadata": {},
   "source": [
    "Vamos a escucharlo de nuevo."
   ]
  },
  {
   "cell_type": "code",
   "execution_count": null,
   "id": "49fccd6d-ed00-4598-a249-b3a29210cb36",
   "metadata": {},
   "outputs": [],
   "source": [
    "velocidad=1\n",
    "IPython.display.Audio(new_data_mono, rate=sample_rate*velocidad)"
   ]
  },
  {
   "cell_type": "markdown",
   "id": "860daa53-6e80-4b79-9f23-e9dbfb6cb123",
   "metadata": {},
   "source": [
    " El audio al convertirse a formato .wav se aprecia que el sonido es mono: \n",
    "\n",
    "<ul>\n",
    "    <li><b>Si es Mono</b>: se escucha exactamente lo mismo por ambos audífonos.</li>\n",
    "    <li><b>Si es Estéreo</b>: no se escucha lo mismo por ambos canales, sino que se notan variaciones entre ellos.</li>\n",
    "</ul>"
   ]
  },
  {
   "cell_type": "markdown",
   "id": "7ecee678-b877-4370-847f-1d08e56ecf12",
   "metadata": {},
   "source": [
    "El tamaño del audio varía en función del tipo de sonido que sea, si es mono o estéreo. "
   ]
  },
  {
   "cell_type": "code",
   "execution_count": null,
   "id": "d642e5d2-6237-46bf-a8c6-63268c6da8d8",
   "metadata": {},
   "outputs": [],
   "source": [
    "!ls -sh audio/_input/sample1_stereo.wav\n",
    "!ls -sh audio/_output/sample1_mono.wav"
   ]
  },
  {
   "cell_type": "markdown",
   "id": "dd488773-2466-4ba0-ae06-ffdd5c35daf2",
   "metadata": {},
   "source": [
    "El tamaño se ha reducido a la mitad (manteniendo el la frecuencia de muestreo). Mostramos por pantalla la frecuencia de muestreo (*sample rate*) del archivo de audio: "
   ]
  },
  {
   "cell_type": "code",
   "execution_count": null,
   "id": "8b6f73f4-1790-49eb-8be9-07704a7bfa4e",
   "metadata": {},
   "outputs": [],
   "source": [
    "print(f'Frecuencia de muestreo (sample rate): {sample_rate/1000} kHz\\n')"
   ]
  },
  {
   "cell_type": "markdown",
   "id": "4416c9b4-9e29-4d5a-9d8c-49dac76f9ada",
   "metadata": {},
   "source": []
  },
  {
   "cell_type": "markdown",
   "id": "04ec03a5",
   "metadata": {},
   "source": []
  }
 ],
 "metadata": {
  "kernelspec": {
   "display_name": "EnvAudioSSM",
   "language": "python",
   "name": "python3"
  },
  "language_info": {
   "codemirror_mode": {
    "name": "ipython",
    "version": 3
   },
   "file_extension": ".py",
   "mimetype": "text/x-python",
   "name": "python",
   "nbconvert_exporter": "python",
   "pygments_lexer": "ipython3",
   "version": "3.10.16"
  },
  "toc-autonumbering": true
 },
 "nbformat": 4,
 "nbformat_minor": 5
}
